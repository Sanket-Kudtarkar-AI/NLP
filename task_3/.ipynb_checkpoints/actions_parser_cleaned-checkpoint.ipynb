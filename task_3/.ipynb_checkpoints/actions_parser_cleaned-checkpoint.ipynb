{
 "cells": [
  {
   "cell_type": "code",
   "execution_count": 1,
   "metadata": {},
   "outputs": [],
   "source": [
    "from nltk import RegexpParser\n",
    "from nltk.tree import Tree\n",
    "import nltk\n",
    "from nltk import pos_tag\n",
    "from nltk.tokenize import word_tokenize, sent_tokenize"
   ]
  },
  {
   "cell_type": "code",
   "execution_count": 2,
   "metadata": {},
   "outputs": [],
   "source": [
    "def is_imperative(tagged_sent):\n",
    "    if tagged_sent[-1][0] != \"?\":\n",
    "        if tagged_sent[0][1] == \"VB\" or tagged_sent[0][1] == \"MD\":\n",
    "            return True\n",
    "\n",
    "        else:\n",
    "            chunk = get_chunks(tagged_sent)\n",
    "            if type(chunk[0]) is nltk.tree.Tree and chunk[0].label() == \"VB-Phrase\":\n",
    "                \n",
    "                return True\n",
    "\n",
    "    else:\n",
    "        pls = len([w for w in tagged_sent if w[0].lower() == \"please\"]) > 0\n",
    "        if pls and (tagged_sent[0][1] == \"VB\" or tagged_sent[0][1] == \"MD\"):\n",
    "            \n",
    "            return True\n",
    "\n",
    "        chunk = get_chunks(tagged_sent)\n",
    "        if type(chunk[-1]) == nltk.tree.Tree and chunk[-1].label() == \"Q-Tag\":\n",
    "            if (chunk[0][1] == \"VB\" or (type(chunk[0]) is Tree and chunk[0].label() == \"VB-Phrase\")):\n",
    "                \n",
    "                return True\n",
    "    return False\n",
    "\n",
    "\n",
    "def get_chunks(tagged_sent):\n",
    "    chunkgram = r\"\"\"VB-Phrase: {<DT><,>*<VB>}\n",
    "                    VB-Phrase: {<RB><VB>}\n",
    "                    VB-Phrase: {<UH><,>*<VB>}\n",
    "                    VB-Phrase: {<UH><,><VBP>}\n",
    "                    VB-Phrase: {<PRP><VB>}\n",
    "                    VB-Phrase: {<NN.?>+<,>*<VB>}\n",
    "                    Q-Tag: {<,><MD><RB>*<PRP><.>*}\"\"\"\n",
    "    chunkparser = RegexpParser(chunkgram)\n",
    "    return chunkparser.parse(tagged_sent)"
   ]
  },
  {
   "cell_type": "code",
   "execution_count": 3,
   "metadata": {},
   "outputs": [],
   "source": [
    "def imperative_parser(input_text):\n",
    "    tokenized_sentences_list = sent_tokenize(input_text)\n",
    "    pos_tag_sentences = list()\n",
    "    for sentence in tokenized_sentences_list:\n",
    "        if is_imperative(pos_tag(word_tokenize(sentence))):\n",
    "            print(sentence)"
   ]
  },
  {
   "cell_type": "code",
   "execution_count": null,
   "metadata": {},
   "outputs": [],
   "source": []
  },
  {
   "cell_type": "code",
   "execution_count": null,
   "metadata": {},
   "outputs": [],
   "source": []
  }
 ],
 "metadata": {
  "kernelspec": {
   "display_name": "Python 3",
   "language": "python",
   "name": "python3"
  },
  "language_info": {
   "codemirror_mode": {
    "name": "ipython",
    "version": 3
   },
   "file_extension": ".py",
   "mimetype": "text/x-python",
   "name": "python",
   "nbconvert_exporter": "python",
   "pygments_lexer": "ipython3",
   "version": "3.8.7"
  },
  "varInspector": {
   "cols": {
    "lenName": 16,
    "lenType": 16,
    "lenVar": 40
   },
   "kernels_config": {
    "python": {
     "delete_cmd_postfix": "",
     "delete_cmd_prefix": "del ",
     "library": "var_list.py",
     "varRefreshCmd": "print(var_dic_list())"
    },
    "r": {
     "delete_cmd_postfix": ") ",
     "delete_cmd_prefix": "rm(",
     "library": "var_list.r",
     "varRefreshCmd": "cat(var_dic_list()) "
    }
   },
   "types_to_exclude": [
    "module",
    "function",
    "builtin_function_or_method",
    "instance",
    "_Feature"
   ],
   "window_display": false
  }
 },
 "nbformat": 4,
 "nbformat_minor": 4
}
