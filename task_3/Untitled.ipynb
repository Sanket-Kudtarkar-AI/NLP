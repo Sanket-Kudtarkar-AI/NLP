{
 "cells": [
  {
   "cell_type": "code",
   "execution_count": 40,
   "metadata": {},
   "outputs": [],
   "source": [
    "from nltk import RegexpParser\n",
    "from nltk.tree import Tree\n",
    "import nltk\n",
    "from nltk import pos_tag\n",
    "from nltk.tokenize import word_tokenize, sent_tokenize"
   ]
  },
  {
   "cell_type": "code",
   "execution_count": 89,
   "metadata": {},
   "outputs": [],
   "source": [
    "def is_imperative(tagged_sent):\n",
    "    # if the sentence is not a question...\n",
    "    if tagged_sent[-1][0] != \"?\":\n",
    "        # catches simple imperatives, e.g. \"Open the pod bay doors, HAL!\"\n",
    "        if tagged_sent[0][1] == \"VB\" or tagged_sent[0][1] == \"MD\":\n",
    "            print(\"type - 1\")\n",
    "            return True\n",
    "\n",
    "        # catches imperative sentences starting with words like 'please', 'you',...\n",
    "        # E.g. \"Dave, stop.\", \"Just take a stress pill and think things over.\"\n",
    "        else:\n",
    "            chunk = get_chunks(tagged_sent)\n",
    "            # check if the first chunk of the sentence is a VB-Phrase\n",
    "            if type(chunk[0]) is nltk.tree.Tree and chunk[0].label() == \"VB-Phrase\":\n",
    "                print(\"type - 2\")\n",
    "                \n",
    "                return True\n",
    "\n",
    "    # Questions can be imperatives too, let's check if this one is\n",
    "    else:\n",
    "        # check if sentence contains the word 'please'\n",
    "        pls = len([w for w in tagged_sent if w[0].lower() == \"please\"]) > 0\n",
    "        # catches requests disguised as questions\n",
    "        # e.g. \"Open the doors, HAL, please?\"\n",
    "        if pls and (tagged_sent[0][1] == \"VB\" or tagged_sent[0][1] == \"MD\"):\n",
    "            print(\"type - 3\")\n",
    "            \n",
    "            return True\n",
    "\n",
    "        chunk = get_chunks(tagged_sent)\n",
    "        # catches imperatives ending with a Question tag\n",
    "        # and starting with a verb in base form, e.g. \"Stop it, will you?\"\n",
    "        if type(chunk[-1]) == nltk.tree.Tree and chunk[-1].label() == \"Q-Tag\":\n",
    "            if (chunk[0][1] == \"VB\" or (type(chunk[0]) is Tree and chunk[0].label() == \"VB-Phrase\")):\n",
    "                print(\"type - 4\")\n",
    "                \n",
    "                return True\n",
    "    return False\n",
    "\n",
    "\n",
    "# chunks the sentence into grammatical phrases based on its POS-tags\n",
    "def get_chunks(tagged_sent):\n",
    "    chunkgram = r\"\"\"VB-Phrase: {<DT><,>*<VB>}\n",
    "                    VB-Phrase: {<RB><VB>}\n",
    "                    VB-Phrase: {<UH><,>*<VB>}\n",
    "                    VB-Phrase: {<UH><,><VBP>}\n",
    "                    VB-Phrase: {<PRP><VB>}\n",
    "                    VB-Phrase: {<NN.?>+<,>*<VB>}\n",
    "                    Q-Tag: {<,><MD><RB>*<PRP><.>*}\"\"\"\n",
    "    chunkparser = RegexpParser(chunkgram)\n",
    "    return chunkparser.parse(tagged_sent)"
   ]
  },
  {
   "cell_type": "code",
   "execution_count": null,
   "metadata": {},
   "outputs": [],
   "source": []
  },
  {
   "cell_type": "code",
   "execution_count": 193,
   "metadata": {},
   "outputs": [
    {
     "name": "stdout",
     "output_type": "stream",
     "text": [
      "This is a document.\n",
      "Give this a try.\n",
      "type - 1\n",
      "Give this a try.\n",
      "I do not want to do this.\n",
      "Can we talk later?\n",
      "Let is have a call.\n",
      "type - 1\n",
      "Let is have a call.\n",
      "Please get back to me.\n",
      "type - 2\n",
      "Please get back to me.\n",
      "Do not try this product.\n",
      "Don’t rush or you will fall.\n"
     ]
    }
   ],
   "source": [
    "def imperative_parser(input_text):\n",
    "    tokenized_sentences_list = sent_tokenize(input_text)\n",
    "    pos_tag_sentences = list()\n",
    "    for sentence in tokenized_sentences_list:\n",
    "        sentence = decontracted(sentence)\n",
    "        print(sentence)\n",
    "        if is_imperative(pos_tag(word_tokenize(sentence))):\n",
    "            print(sentence)\n",
    "\n",
    "\n",
    "doc = \"This is a document. Give this a try. \\\n",
    "        I don't want to do this. Can we talk later? \\\n",
    "        Let's have a call. Please get back to me.\\\n",
    "        Don't try this product. Don’t rush or you will fall.\"\n",
    "imperative_parser(doc)"
   ]
  },
  {
   "cell_type": "code",
   "execution_count": 171,
   "metadata": {},
   "outputs": [
    {
     "name": "stdout",
     "output_type": "stream",
     "text": [
      "type - 2\n"
     ]
    },
    {
     "data": {
      "text/plain": [
       "True"
      ]
     },
     "execution_count": 171,
     "metadata": {},
     "output_type": "execute_result"
    }
   ],
   "source": [
    "is_imperative(pos_tag(word_tokenize(\"Just take a stress pill and think things over.\")))"
   ]
  },
  {
   "cell_type": "code",
   "execution_count": 194,
   "metadata": {},
   "outputs": [
    {
     "name": "stdout",
     "output_type": "stream",
     "text": [
      "type - 4\n"
     ]
    },
    {
     "data": {
      "text/plain": [
       "True"
      ]
     },
     "execution_count": 194,
     "metadata": {},
     "output_type": "execute_result"
    }
   ],
   "source": [
    "is_imperative(pos_tag(word_tokenize(\"stop it, will you?\")))"
   ]
  },
  {
   "cell_type": "code",
   "execution_count": 197,
   "metadata": {},
   "outputs": [
    {
     "name": "stdout",
     "output_type": "stream",
     "text": [
      "do not call me again\n",
      "type - 1\n",
      "do not call me again\n"
     ]
    }
   ],
   "source": [
    "imperative_parser(\"do not call me again\")"
   ]
  },
  {
   "cell_type": "code",
   "execution_count": 173,
   "metadata": {},
   "outputs": [
    {
     "name": "stdout",
     "output_type": "stream",
     "text": [
      "type - 3\n"
     ]
    },
    {
     "data": {
      "text/plain": [
       "True"
      ]
     },
     "execution_count": 173,
     "metadata": {},
     "output_type": "execute_result"
    }
   ],
   "source": [
    "is_imperative(pos_tag(word_tokenize(\"Open the doors, HAL, please?\")))"
   ]
  },
  {
   "cell_type": "code",
   "execution_count": 198,
   "metadata": {},
   "outputs": [
    {
     "name": "stdout",
     "output_type": "stream",
     "text": [
      "Can we please do this later?\n",
      "type - 3\n",
      "Can we please do this later?\n",
      "None\n",
      "I am Sanket.\n",
      "None\n",
      "This is my job\n",
      "None\n",
      "Can we do this later?\n",
      "None\n",
      "Do not call me later\n",
      "type - 1\n",
      "Do not call me later\n",
      "None\n",
      "register for this service\n",
      "None\n",
      "clean this mess\n",
      "None\n"
     ]
    }
   ],
   "source": [
    "print(imperative_parser(\"Can we please do this later?\"))\n",
    "print(imperative_parser(\"I'm Sanket.\"))\n",
    "print(imperative_parser(\"This is my job\"))\n",
    "print(imperative_parser(\"Can we do this later?\"))\n",
    "print(imperative_parser(\"Do not call me later\"))\n",
    "print(imperative_parser(\"register for this service\"))\n",
    "print(imperative_parser(\"clean this mess\"))"
   ]
  },
  {
   "cell_type": "code",
   "execution_count": 38,
   "metadata": {},
   "outputs": [
    {
     "data": {
      "text/plain": [
       "True"
      ]
     },
     "execution_count": 38,
     "metadata": {},
     "output_type": "execute_result"
    }
   ],
   "source": [
    "is_imperative(pos_tag(word_tokenize(\"Let's have a call\")))"
   ]
  },
  {
   "cell_type": "code",
   "execution_count": 74,
   "metadata": {},
   "outputs": [
    {
     "data": {
      "text/plain": [
       "[('Just', 'RB')]"
      ]
     },
     "execution_count": 74,
     "metadata": {},
     "output_type": "execute_result"
    }
   ],
   "source": [
    "pos_tag(word_tokenize(\"Just\"))"
   ]
  },
  {
   "cell_type": "code",
   "execution_count": 78,
   "metadata": {},
   "outputs": [],
   "source": [
    "import re\n",
    "\n",
    "def decontracted(phrase):\n",
    "    phrase = re.sub(r\"won\\'t\", \"will not\", phrase)\n",
    "    phrase = re.sub(r\"can\\'t\", \"can not\", phrase)\n",
    "\n",
    "    phrase = re.sub(r\"n\\'t\", \" not\", phrase)\n",
    "    phrase = re.sub(r\"\\'re\", \" are\", phrase)\n",
    "    phrase = re.sub(r\"\\'s\", \" is\", phrase)\n",
    "    phrase = re.sub(r\"\\'d\", \" would\", phrase)\n",
    "    phrase = re.sub(r\"\\'ll\", \" will\", phrase)\n",
    "    phrase = re.sub(r\"\\'t\", \" not\", phrase)\n",
    "    phrase = re.sub(r\"\\'ve\", \" have\", phrase)\n",
    "    phrase = re.sub(r\"\\'m\", \" am\", phrase)\n",
    "    return phrase"
   ]
  },
  {
   "cell_type": "code",
   "execution_count": 152,
   "metadata": {},
   "outputs": [
    {
     "name": "stdout",
     "output_type": "stream",
     "text": [
      "type - 2\n"
     ]
    },
    {
     "data": {
      "text/plain": [
       "True"
      ]
     },
     "execution_count": 152,
     "metadata": {},
     "output_type": "execute_result"
    }
   ],
   "source": [
    "is_imperative(pos_tag(word_tokenize(\"Please, get back to me.\")))"
   ]
  },
  {
   "cell_type": "code",
   "execution_count": 153,
   "metadata": {},
   "outputs": [
    {
     "data": {
      "text/plain": [
       "False"
      ]
     },
     "execution_count": 153,
     "metadata": {},
     "output_type": "execute_result"
    }
   ],
   "source": [
    "is_imperative(pos_tag(word_tokenize(\"don't call me again\")))"
   ]
  },
  {
   "cell_type": "code",
   "execution_count": 154,
   "metadata": {},
   "outputs": [
    {
     "name": "stdout",
     "output_type": "stream",
     "text": [
      "Get back to me.\n"
     ]
    }
   ],
   "source": [
    "ex_string = \"get back to me.\"\n",
    "print(ex_string.capitalize())"
   ]
  },
  {
   "cell_type": "code",
   "execution_count": 177,
   "metadata": {},
   "outputs": [
    {
     "data": {
      "text/plain": [
       "[('Do', 'VBP'), (\"n't\", 'RB')]"
      ]
     },
     "execution_count": 177,
     "metadata": {},
     "output_type": "execute_result"
    }
   ],
   "source": [
    "pos_tag(word_tokenize(\"Don't\"))"
   ]
  },
  {
   "cell_type": "code",
   "execution_count": 158,
   "metadata": {},
   "outputs": [
    {
     "data": {
      "text/plain": [
       "[('Do', 'NNP'),\n",
       " ('not', 'RB'),\n",
       " ('rush', 'VB'),\n",
       " ('or', 'CC'),\n",
       " ('you', 'PRP'),\n",
       " ('will', 'MD'),\n",
       " ('fall', 'VB'),\n",
       " ('.', '.')]"
      ]
     },
     "execution_count": 158,
     "metadata": {},
     "output_type": "execute_result"
    }
   ],
   "source": [
    "pos_tag(word_tokenize(\"Do not rush or you will fall.\"))"
   ]
  },
  {
   "cell_type": "code",
   "execution_count": 156,
   "metadata": {},
   "outputs": [
    {
     "data": {
      "text/plain": [
       "False"
      ]
     },
     "execution_count": 156,
     "metadata": {},
     "output_type": "execute_result"
    }
   ],
   "source": [
    "is_imperative(pos_tag(word_tokenize(\"Do not rush or you will fall.\")))"
   ]
  },
  {
   "cell_type": "code",
   "execution_count": 168,
   "metadata": {},
   "outputs": [
    {
     "data": {
      "text/plain": [
       "[('Feel', 'NNP'), ('free', 'JJ'), ('to', 'TO'), ('connect', 'VB'), ('.', '.')]"
      ]
     },
     "execution_count": 168,
     "metadata": {},
     "output_type": "execute_result"
    }
   ],
   "source": [
    "pos_tag(word_tokenize(\"Feel free to connect.\"))"
   ]
  },
  {
   "cell_type": "code",
   "execution_count": 165,
   "metadata": {},
   "outputs": [
    {
     "data": {
      "text/plain": [
       "False"
      ]
     },
     "execution_count": 165,
     "metadata": {},
     "output_type": "execute_result"
    }
   ],
   "source": [
    "is_imperative(pos_tag(word_tokenize(\"Feel free to connect\")))"
   ]
  },
  {
   "cell_type": "code",
   "execution_count": 190,
   "metadata": {},
   "outputs": [
    {
     "data": {
      "text/plain": [
       "[('do', 'VB'),\n",
       " ('not', 'RB'),\n",
       " ('end', 'VB'),\n",
       " ('the', 'DT'),\n",
       " ('contract', 'NN'),\n",
       " ('.', '.')]"
      ]
     },
     "execution_count": 190,
     "metadata": {},
     "output_type": "execute_result"
    }
   ],
   "source": [
    "pos_tag(word_tokenize(\"do not end the contract.\"))"
   ]
  },
  {
   "cell_type": "code",
   "execution_count": 191,
   "metadata": {},
   "outputs": [
    {
     "data": {
      "text/plain": [
       "[('register', 'NN'), ('now', 'RB'), ('this', 'DT'), ('service', 'NN')]"
      ]
     },
     "execution_count": 191,
     "metadata": {},
     "output_type": "execute_result"
    }
   ],
   "source": [
    "pos_tag(word_tokenize(\"register now this service\"))"
   ]
  },
  {
   "cell_type": "code",
   "execution_count": 175,
   "metadata": {},
   "outputs": [],
   "source": [
    "imperative_parser(\"Feel free to connect\")"
   ]
  },
  {
   "cell_type": "code",
   "execution_count": 192,
   "metadata": {},
   "outputs": [],
   "source": [
    "imperative_parser(\"register now for this service\")"
   ]
  },
  {
   "cell_type": "code",
   "execution_count": 184,
   "metadata": {},
   "outputs": [
    {
     "data": {
      "text/plain": [
       "[('Clean', 'VB'), ('this', 'DT'), ('mess', 'NN')]"
      ]
     },
     "execution_count": 184,
     "metadata": {},
     "output_type": "execute_result"
    }
   ],
   "source": [
    "pos_tag(word_tokenize(\"Clean this mess\"))"
   ]
  },
  {
   "cell_type": "code",
   "execution_count": 201,
   "metadata": {},
   "outputs": [
    {
     "data": {
      "text/plain": [
       "[('Register', 'NN')]"
      ]
     },
     "execution_count": 201,
     "metadata": {},
     "output_type": "execute_result"
    }
   ],
   "source": [
    "pos_tag(word_tokenize(\"Register\"))"
   ]
  },
  {
   "cell_type": "code",
   "execution_count": 207,
   "metadata": {},
   "outputs": [
    {
     "data": {
      "text/plain": [
       "[('register', 'NN')]"
      ]
     },
     "execution_count": 207,
     "metadata": {},
     "output_type": "execute_result"
    }
   ],
   "source": [
    "pos_tag([\"register\"])"
   ]
  },
  {
   "cell_type": "code",
   "execution_count": 211,
   "metadata": {},
   "outputs": [
    {
     "data": {
      "text/plain": [
       "[('This', 'DT'), ('is', 'VBZ'), ('my', 'PRP$'), ('sentence', 'NN')]"
      ]
     },
     "execution_count": 211,
     "metadata": {},
     "output_type": "execute_result"
    }
   ],
   "source": [
    "from textblob import TextBlob\n",
    "\n",
    "blob = TextBlob(\"This is my sentence\")\n",
    "blob.tags"
   ]
  },
  {
   "cell_type": "code",
   "execution_count": 212,
   "metadata": {},
   "outputs": [],
   "source": [
    "def get_TB_pos(input_text):\n",
    "    blob = TextBlob(input_text)\n",
    "    return blob.tags"
   ]
  },
  {
   "cell_type": "code",
   "execution_count": 225,
   "metadata": {},
   "outputs": [
    {
     "data": {
      "text/plain": [
       "[('Clean', 'VB'), ('this', 'DT')]"
      ]
     },
     "execution_count": 225,
     "metadata": {},
     "output_type": "execute_result"
    }
   ],
   "source": [
    "get_TB_pos(\"Clean this\")"
   ]
  },
  {
   "cell_type": "code",
   "execution_count": 222,
   "metadata": {},
   "outputs": [
    {
     "data": {
      "text/plain": [
       "[('Do', 'NNP'), ('not', 'RB'), ('do', 'VB'), ('this', 'DT')]"
      ]
     },
     "execution_count": 222,
     "metadata": {},
     "output_type": "execute_result"
    }
   ],
   "source": [
    "get_TB_pos(\"Do not do this.\")"
   ]
  },
  {
   "cell_type": "code",
   "execution_count": 227,
   "metadata": {},
   "outputs": [
    {
     "data": {
      "text/plain": [
       "['this ', ' is a', '']"
      ]
     },
     "execution_count": 227,
     "metadata": {},
     "output_type": "execute_result"
    }
   ],
   "source": [
    "string_1 = \"this . is a.\"\n",
    "string_1.split(\".\")"
   ]
  },
  {
   "cell_type": "code",
   "execution_count": null,
   "metadata": {},
   "outputs": [],
   "source": []
  }
 ],
 "metadata": {
  "kernelspec": {
   "display_name": "Python 3",
   "language": "python",
   "name": "python3"
  },
  "language_info": {
   "codemirror_mode": {
    "name": "ipython",
    "version": 3
   },
   "file_extension": ".py",
   "mimetype": "text/x-python",
   "name": "python",
   "nbconvert_exporter": "python",
   "pygments_lexer": "ipython3",
   "version": "3.8.7"
  },
  "varInspector": {
   "cols": {
    "lenName": 16,
    "lenType": 16,
    "lenVar": 40
   },
   "kernels_config": {
    "python": {
     "delete_cmd_postfix": "",
     "delete_cmd_prefix": "del ",
     "library": "var_list.py",
     "varRefreshCmd": "print(var_dic_list())"
    },
    "r": {
     "delete_cmd_postfix": ") ",
     "delete_cmd_prefix": "rm(",
     "library": "var_list.r",
     "varRefreshCmd": "cat(var_dic_list()) "
    }
   },
   "types_to_exclude": [
    "module",
    "function",
    "builtin_function_or_method",
    "instance",
    "_Feature"
   ],
   "window_display": false
  }
 },
 "nbformat": 4,
 "nbformat_minor": 4
}
